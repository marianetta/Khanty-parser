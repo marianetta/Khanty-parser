{
 "cells": [
  {
   "cell_type": "code",
   "execution_count": 1,
   "metadata": {
    "colab": {
     "base_uri": "https://localhost:8080/"
    },
    "id": "7PKfG9Lv46bB",
    "outputId": "0e850aa4-b317-41a9-e0a5-5273a5f2711a"
   },
   "outputs": [
    {
     "name": "stderr",
     "output_type": "stream",
     "text": [
      "\n",
      "[notice] A new release of pip available: 22.3.1 -> 23.1\n",
      "[notice] To update, run: python.exe -m pip install --upgrade pip\n"
     ]
    },
    {
     "name": "stdout",
     "output_type": "stream",
     "text": [
      "Requirement already satisfied: mammoth in c:\\users\\maria\\anaconda3\\ana\\lib\\site-packages (1.5.0)\n",
      "Requirement already satisfied: cobble<0.2,>=0.1.3 in c:\\users\\maria\\anaconda3\\ana\\lib\\site-packages (from mammoth) (0.1.3)\n"
     ]
    }
   ],
   "source": [
    "!pip install mammoth\n",
    "import mammoth\n",
    "import re\n",
    "from bs4 import BeautifulSoup"
   ]
  },
  {
   "cell_type": "code",
   "execution_count": 2,
   "metadata": {
    "id": "pgbe3c6K47T4"
   },
   "outputs": [],
   "source": [
    "# чтобы перевести из списка статей в формат словаря\n",
    "def lines_to_entries(new_lines):\n",
    "    entries = []\n",
    "    ID = 1\n",
    "    c = 0\n",
    "    digits = ['I. ', 'II. ', 'III. ', 'IV. ', 'V. ', 'VI. ', 'VII. ', 'VIII. ', 'IX. ', 'X. ', \n",
    "              'I', 'II', 'III', \n",
    "              'IV', 'V', 'VI', 'VII', 'VIII', 'IX', 'X',\n",
    "              'I.', 'II.', 'III.', 'IV.', 'V.', 'VI.', 'VII.', 'VIII.', 'IX.', 'X.',\n",
    "              'I ', 'II ', 'III ', 'IV ', 'V ', 'VI ', 'VII ', 'VIII ', 'IX ', 'X ']\n",
    "    for line in new_lines:\n",
    "      word = line.find('strong')\n",
    "      new_entry = {}\n",
    "      if word is not None:\n",
    "        if word.text in digits:\n",
    "            word = entries[c-1]['word']\n",
    "            new_entry['id'] = ID\n",
    "            new_entry['word'] = word\n",
    "            new_entry['line'] = line\n",
    "            new_entry['meanings'] = []\n",
    "            entries.append(new_entry)            \n",
    "        else:\n",
    "            new_entry['id'] = ID\n",
    "            new_entry['word'] = word.text.strip(' ').strip('I.')\n",
    "            new_entry['line'] = line\n",
    "            new_entry['meanings'] = []\n",
    "            entries.append(new_entry)\n",
    "        ID += 1\n",
    "        c += 1\n",
    "    return entries"
   ]
  },
  {
   "cell_type": "code",
   "execution_count": 3,
   "metadata": {
    "id": "c1N9uvIq5W_f"
   },
   "outputs": [],
   "source": [
    "def line_to_newmeaning(line):\n",
    "      new_meaning = {}\n",
    "      line = BeautifulSoup(line, 'html.parser')\n",
    "      new_meaning['id'] = new_id\n",
    "      new_meaning['comments'] = [i.text.strip(' ') for i in line.find_all('em') if i.text != ', ']\n",
    "\n",
    "      if line.find_all('strong') != []:\n",
    "          line.strong.extract()\n",
    "      while line.find_all('em') != []:\n",
    "          line.em.extract()\n",
    "\n",
    "\n",
    "      examples_str = ''\n",
    "      res = re.search(r'([а-я ,:;=\\-\\–\\d\\.()]+)([()АĂВИЙКЛԒЉМНЊӇОӨПРСТNУЎХШЩЫЄЭƏ\\d\\s ,:;=\\-\\–][аăвийклԓљмнњӈоөпрстnуўхшщыєэǝəӊъ\\d ,:;\\-\\–]+.*[А-Я][а-я =;:,()ё\\.\\-\\–]+)', line.text) \n",
    "      \n",
    "      if res == None:\n",
    "        res2 = re.search('([()АĂВИЙКЛԒЉМНЊӇОӨПРСТNУЎХШЩЫЄЭƏ\\d\\s ,:;\\-\\–][аăвийклԓљмнњӈоөпрстnуўхшщыєэǝəӊъ\\d ,:;=\\-\\–]+)([А-Я][а-я =;:,()ё\\.\\-\\–]+)', line.text)\n",
    "        if res2 == None:    #только перевод\n",
    "              translation = line.text.strip(' ').strip('.:;,')\n",
    "              ex_orig = ''\n",
    "              ex_trans = ''\n",
    "        else: #только два предложения\n",
    "            translation = ''\n",
    "            examples_str = res2[0]\n",
    "\n",
    "      else:   # перевод и два предложения \n",
    "          translation = res[1].strip(' ').strip('.;:,')\n",
    "          examples_str = res[2]       \n",
    "      new_meaning['translations'] = translation\n",
    "\n",
    "      #примеры\n",
    "      ex_pairs = examples_str.split(';')\n",
    "      ex_pairs = [i for i in ex_pairs if i != ' ']\n",
    "      examples = []\n",
    "      for pair in ex_pairs:\n",
    "        new_ex = {}\n",
    "        p = re.search('([()АĂВИЙКЛԒЉМНЊӇОӨПРСТNУЎХШЩЫЄЭƏ\\d\\s ,:;\\-\\–][аăвийклԓљмнњӈоөпрстnуўхшщыєэǝəӊъ\\d ,:;=\\-\\–]+)([А-Я][а-я =;:,()ё\\.\\-\\–]+)', pair)\n",
    "        if p != None:\n",
    "          ex_orig = p[1]\n",
    "          ex_trans = p[2]\n",
    "          new_ex['example_original'] = ex_orig\n",
    "          new_ex['example_translation'] = ex_trans\n",
    "          examples.append(new_ex)\n",
    "      new_meaning['examples'] = examples\n",
    "\n",
    "      #референсы\n",
    "      new_meaning['references'] = []\n",
    "      references = {}\n",
    "      references['entry_id'] = 0\n",
    "      references['meaning_id'] = 0\n",
    "      references['reference_comment'] = ''\n",
    "      new_meaning['references'].append(references)\n",
    "      \n",
    "      \n",
    "\n",
    "      return new_meaning"
   ]
  },
  {
   "cell_type": "code",
   "execution_count": 16,
   "metadata": {
    "id": "y3JG88T25HtV"
   },
   "outputs": [],
   "source": [
    "path = 'dict_Solovar_final.docx'\n",
    "with open(path, \"rb\") as docx_file:\n",
    "    result = mammoth.convert_to_html(docx_file)\n",
    "    html = result.value # The generated HTML\n",
    "    messages = result.messages # Any messages, such as warnings during conversion\n",
    "with open('Solovar.html', 'w', encoding = 'utf-8') as res:\n",
    "    res.write(html)    \n",
    "from bs4 import BeautifulSoup\n",
    "soup = BeautifulSoup(html, 'html.parser')\n",
    "lines = soup.find_all('p')\n",
    "new_lines = lines[134:6419]"
   ]
  },
  {
   "cell_type": "code",
   "execution_count": 20,
   "metadata": {
    "id": "qnV8V_cQ5Jxr"
   },
   "outputs": [],
   "source": [
    "entries = lines_to_entries(new_lines)\n",
    "\n",
    "for entry in entries:\n",
    "  # определяем, многозначное или нет\n",
    "  l = entry['line']\n",
    "  del entry['line']\n",
    "  lines = re.split('\\d+\\.', str(l))\n",
    "  lines = [i for i in lines if i != ''][1:]\n",
    "  new_id = 0\n",
    "  new_meaning = {}\n",
    "  # тут для многозначных\n",
    "\n",
    "  if lines != []:\n",
    "    for line in  lines:\n",
    "      new_id += 1\n",
    "      new_meaning = line_to_newmeaning(line)\n",
    "      entry['meanings'].append(new_meaning)\n",
    "      new_meaning = {}\n",
    "      \n",
    "  # тут для однозначных\n",
    "  else:\n",
    "    new_id = 1\n",
    "    new_meaning = line_to_newmeaning(str(l))\n",
    "    entry['meanings'].append(new_meaning)"
   ]
  },
  {
   "cell_type": "code",
   "execution_count": 21,
   "metadata": {
    "colab": {
     "base_uri": "https://localhost:8080/"
    },
    "id": "K_8UWmL15NIA",
    "outputId": "d3f4d971-f004-4808-c1ff-0e8efdddaa0b"
   },
   "outputs": [
    {
     "data": {
      "text/plain": [
       "[{'id': 1,\n",
       "  'word': 'авəт',\n",
       "  'meanings': [{'id': 1,\n",
       "    'comments': ['сущ.'],\n",
       "    'translations': 'высокий мыс',\n",
       "    'examples': [],\n",
       "    'references': [{'entry_id': 0,\n",
       "      'meaning_id': 0,\n",
       "      'reference_comment': ''}]}]},\n",
       " {'id': 2,\n",
       "  'word': 'авка',\n",
       "  'meanings': [{'id': 1,\n",
       "    'comments': ['сущ.'],\n",
       "    'translations': 'ручной олень',\n",
       "    'examples': [],\n",
       "    'references': [{'entry_id': 0,\n",
       "      'meaning_id': 0,\n",
       "      'reference_comment': ''}]}]},\n",
       " {'id': 3,\n",
       "  'word': 'Авка йухан',\n",
       "  'meanings': [{'id': 1,\n",
       "    'comments': ['топоним.'],\n",
       "    'translations': 'река Авка (ручного оленя)',\n",
       "    'examples': [],\n",
       "    'references': [{'entry_id': 0,\n",
       "      'meaning_id': 0,\n",
       "      'reference_comment': ''}]}]},\n",
       " {'id': 4,\n",
       "  'word': 'авты',\n",
       "  'meanings': [{'id': 1,\n",
       "    'comments': ['гл.', 'суб.'],\n",
       "    'translations': '  пахнуть',\n",
       "    'examples': [{'example_original': 'Атǝм єпəԓ авəԓ ',\n",
       "      'example_translation': 'Плохим запахом пахнет.'}],\n",
       "    'references': [{'entry_id': 0,\n",
       "      'meaning_id': 0,\n",
       "      'reference_comment': ''}]}]},\n",
       " {'id': 5,\n",
       "  'word': 'ай ',\n",
       "  'meanings': [{'id': 1,\n",
       "    'comments': [],\n",
       "    'translations': 'маленький',\n",
       "    'examples': [{'example_original': 'Ай ԓаймəԓ вўс ',\n",
       "      'example_translation': 'Он взял свой маленький топор'},\n",
       "     {'example_original': 'Ай хопǝн мăнǝԓ йухан хўват ',\n",
       "      'example_translation': 'Он едет на маленькой лодке по реке'}],\n",
       "    'references': [{'entry_id': 0, 'meaning_id': 0, 'reference_comment': ''}]},\n",
       "   {'id': 2,\n",
       "    'comments': [],\n",
       "    'translations': 'небольшой по возрасту, малолетний, молодой',\n",
       "    'examples': [{'example_original': 'Көртэ- вǝн атэԓт вөԓԓǝв, тăм айтԓам хуԓна тута, сўс көртэԓǝн вөԓԓǝт ',\n",
       "      'example_translation': 'Мы на стойбище одни живем, мои малыши (букв.: маленькие=мои) еще там, на осеннем стойбище живут'},\n",
       "     {'example_original': 'Ԓўв йуԓəн омəсəԓ, ăн рөпитəԓ, ай њаврєм тăйəԓ ',\n",
       "      'example_translation': 'Она дома сидит, не работает, у нее маленький ребенок'},\n",
       "     {'example_original': 'Ԓўв хуԓна ай ',\n",
       "      'example_translation': 'Она еще молодая'},\n",
       "     {'example_original': 'Ай пурайəн вөԓмємəн нөмԓєм, мўӈ хотэв омсəс ай ԓор хонəӈ питəрəн ',\n",
       "      'example_translation': 'Когда я был маленьким, помню, наш дом стоял около маленького озе- ра'},\n",
       "     {'example_original': 'Щирəн кашəӈ хуйат амп ай тєԓəн вўԓ па хуты мосəԓ, щиты вөнəԓтəԓԓэ ',\n",
       "      'example_translation': 'Так каждый человек собаку с маленького возраста берет, и как нужно, так учит ее'},\n",
       "     {'example_original': 'Щирəн апщєм хуԓна ай вөс ',\n",
       "      'example_translation': 'Тог- да братишка=мой еще маленький был'},\n",
       "     {'example_original': 'Ԓўв хуты хуԓна ай ',\n",
       "      'example_translation': 'Он же еще молодой'},\n",
       "     {'example_original': 'Тарəм ай вөртəт, ԓапəт ай вөртəт ',\n",
       "      'example_translation': 'Настойчивые молодые боги, семь молодых богов'},\n",
       "     {'example_original': 'Упэн хуԓна ай, мосəӈ, па икийа мăнəԓ ',\n",
       "      'example_translation': 'Сестра=твоя еще молодая, может, за другого за- муж пойдет'}],\n",
       "    'references': [{'entry_id': 0, 'meaning_id': 0, 'reference_comment': ''}]},\n",
       "   {'id': 3,\n",
       "    'comments': ['фолькл.'],\n",
       "    'translations': 'вышедший из младенческого возраста (младший, самый молодой среди членов семьи)',\n",
       "    'examples': [{'example_original': 'Ай ныйəм йухтəс ',\n",
       "      'example_translation': 'Двою- родная (букв.: маленькая) сестра=моя приехала'},\n",
       "     {'example_original': 'Ай эвэԓ воша вөнəԓтыйəԓты мăнəс ',\n",
       "      'example_translation': 'Младшая дочь уехала учиться в город'},\n",
       "     {'example_original': 'Ай мэњəм йăма йонтəԓ, йєрнас йонтты ԓўвэԓ митаԓа ',\n",
       "      'example_translation': 'Младшая не- вестка хорошо шьет, платье шить ей закажи'},\n",
       "     {'example_original': '  ', 'example_translation': 'Ай ап'}],\n",
       "    'references': [{'entry_id': 0, 'meaning_id': 0, 'reference_comment': ''}]},\n",
       "   {'id': 4,\n",
       "    'comments': [],\n",
       "    'translations': 'мелкий',\n",
       "    'examples': [{'example_original': 'Ай вой ',\n",
       "      'example_translation': 'Маленький зверь'},\n",
       "     {'example_original': ' ай вух ',\n",
       "      'example_translation': 'Мелкие деньги, мелочь'},\n",
       "     {'example_original': 'Ай вух мийа, пєлəтши вух ăн тăй- ԓəм ',\n",
       "      'example_translation': 'Дай мелкие деньги, нечем мне разменять'},\n",
       "     {'example_original': 'Ай кэв шўкəн щєпԓаԓ тєԓ ',\n",
       "      'example_translation': 'Карманы его полны мелкими камушками'}],\n",
       "    'references': [{'entry_id': 0, 'meaning_id': 0, 'reference_comment': ''}]},\n",
       "   {'id': 5,\n",
       "    'comments': [],\n",
       "    'translations': 'малый',\n",
       "    'examples': [{'example_original': 'Ай ',\n",
       "      'example_translation': 'Ас малая '}],\n",
       "    'references': [{'entry_id': 0, 'meaning_id': 0, 'reference_comment': ''}]},\n",
       "   {'id': 6,\n",
       "    'comments': [],\n",
       "    'translations': 'тонкий',\n",
       "    'examples': [{'example_original': 'Ай кєр нуви ',\n",
       "      'example_translation': 'Месяц тонкого наста (букв.: маленького)'}],\n",
       "    'references': [{'entry_id': 0, 'meaning_id': 0, 'reference_comment': ''}]},\n",
       "   {'id': 7,\n",
       "    'comments': [],\n",
       "    'translations': 'небольшой по количеству, немногочислен- ный',\n",
       "    'examples': [{'example_original': 'Ай ԓоњщ тыԓəщ ',\n",
       "      'example_translation': 'Октябрь (букв.: месяц маленького снега)'},\n",
       "     {'example_original': 'Йухан йиӈкəԓ айа йис ',\n",
       "      'example_translation': 'Вода в реке обмелела (букв.: к маленькому стала)'},\n",
       "     {'example_original': 'Кăт ай сурǝх хоймаԓ, ай суԓǝн пунсǝԓԓǝв ',\n",
       "      'example_translation': 'Две сороги попало в ловушки, немного посолили'},\n",
       "     {'example_original': 'Нăӈ кўш кєпа ай хўԓ тăхтыйэ тўва ',\n",
       "      'example_translation': 'Ты хоть немного рыбы (букв.: маленькую часть рыбы) принеси'}],\n",
       "    'references': [{'entry_id': 0,\n",
       "      'meaning_id': 0,\n",
       "      'reference_comment': ''}]}]},\n",
       " {'id': 6,\n",
       "  'word': 'ай ',\n",
       "  'meanings': [{'id': 1,\n",
       "    'comments': ['сущ.'],\n",
       "    'translations': 'весть, известие',\n",
       "    'examples': [{'example_original': 'Ай төты ',\n",
       "      'example_translation': 'Известить'},\n",
       "     {'example_original': 'Атəм ай хөԓсəм, сăмєм щи похнəс ',\n",
       "      'example_translation': 'Я услышал плохую новость, испугался (букв.: сердце лопнуло).'}],\n",
       "    'references': [{'entry_id': 0,\n",
       "      'meaning_id': 0,\n",
       "      'reference_comment': ''}]}]},\n",
       " {'id': 7,\n",
       "  'word': 'ай амп',\n",
       "  'meanings': [{'id': 1,\n",
       "    'comments': ['сущ.'],\n",
       "    'translations': 'щенок',\n",
       "    'examples': [],\n",
       "    'references': [{'entry_id': 0,\n",
       "      'meaning_id': 0,\n",
       "      'reference_comment': ''}]}]},\n",
       " {'id': 8,\n",
       "  'word': 'авийǝԓты',\n",
       "  'meanings': [{'id': 1,\n",
       "    'comments': ['гл.', 'суб.', 'многокр.'],\n",
       "    'translations': '   пахнуть, попахивать',\n",
       "    'examples': [],\n",
       "    'references': [{'entry_id': 0,\n",
       "      'meaning_id': 0,\n",
       "      'reference_comment': ''}]}]}]"
      ]
     },
     "execution_count": 21,
     "metadata": {},
     "output_type": "execute_result"
    }
   ],
   "source": [
    "entries[:8]"
   ]
  },
  {
   "cell_type": "code",
   "execution_count": 22,
   "metadata": {
    "id": "DkgNAZVnjNWA"
   },
   "outputs": [
    {
     "name": "stdout",
     "output_type": "stream",
     "text": [
      "{'id': 2331, 'word': 'ԓор', 'meanings': [{'id': 1, 'comments': [], 'translations': 'низкие места по берегам рек, на которых после спада воды  образуются озера', 'examples': [{'example_original': ' вөԓ ', 'example_translation': 'Посередине озера  один  большой  остров  есть'}], 'references': [{'entry_id': 0, 'meaning_id': 0, 'reference_comment': ''}]}, {'id': 2, 'comments': ['фолькл.'], 'translations': 'озерный', 'examples': [{'example_original': 'Ԓор хоԓəп ', 'example_translation': 'Озерная сеть'}, {'example_original': 'Ԓăхсəм ԓор вөԓтаԓ ', 'example_translation': 'Где-то озеро '}, {'example_original': ') ', 'example_translation': 'Семь озер видно (просека для перевеса).'}], 'references': [{'entry_id': 0, 'meaning_id': 0, 'reference_comment': ''}]}]}\n"
     ]
    }
   ],
   "source": [
    "for i in entries:\n",
    "  if i['word'] == 'ԓор':\n",
    "    print(i)"
   ]
  },
  {
   "cell_type": "code",
   "execution_count": null,
   "metadata": {},
   "outputs": [],
   "source": []
  }
 ],
 "metadata": {
  "colab": {
   "provenance": []
  },
  "kernelspec": {
   "display_name": "Python 3 (ipykernel)",
   "language": "python",
   "name": "python3"
  },
  "language_info": {
   "codemirror_mode": {
    "name": "ipython",
    "version": 3
   },
   "file_extension": ".py",
   "mimetype": "text/x-python",
   "name": "python",
   "nbconvert_exporter": "python",
   "pygments_lexer": "ipython3",
   "version": "3.9.12"
  }
 },
 "nbformat": 4,
 "nbformat_minor": 1
}
